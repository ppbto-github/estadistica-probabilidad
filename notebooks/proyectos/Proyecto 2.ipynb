{
 "cells": [
  {
   "cell_type": "markdown",
   "metadata": {},
   "source": [
    "# Proyecto 2\n",
    "\n",
    "**Fecha de entrega:**\n",
    "\n",
    "Último minuto del domingo 10 de noviembre"
   ]
  },
  {
   "cell_type": "markdown",
   "metadata": {},
   "source": [
    "# Ejercicio Intervalos de confianza\n",
    "\n",
    "Ilustre la interpretación correcta de un intervalo de confianza. Hago esto construyendo intervalos de confianza para la media de una distribución $N(\\mu, \\sigma^2)$ en donde $\\mu$ es un parámetro desconocido y $\\sigma$ es conocido (lea el notebook de Pruebas de hipótesis e intervalos de confianza).\n",
    "\n",
    "**NOTA:** Prohibido utilizar loops\n",
    "\n",
    "Únicamente debe de utilizar sliders para:\n",
    "\n",
    "* Tamaño de la muestra\n",
    "\n",
    "* Número de intervalos\n",
    "\n",
    "* Parámetro $\\sigma$\n",
    "\n",
    "* Nivel de confianza\n",
    "\n",
    "* Valor verdadero de $\\mu$\n",
    "\n",
    "Puede guiarse del sitio\n",
    "\n",
    "https://istats.shinyapps.io/ExploreCoverage/\n",
    "\n",
    "\n",
    "**Tip**\n",
    "\n",
    "Para verificar que su código funcione correctamente, puede utilizar lo siguiente\n",
    "\n",
    "* Si se crean $100$ intervalos y el nivel de confianza es de $95\\%$, entonces debe de ver aproximadamente $5$ intervalos que no capturan al verdadero valor de $\\mu$."
   ]
  },
  {
   "cell_type": "code",
   "execution_count": null,
   "metadata": {},
   "outputs": [],
   "source": []
  },
  {
   "cell_type": "markdown",
   "metadata": {},
   "source": [
    "# Máxima verosimilitud\n",
    "\n",
    "Utilizando la función de densidad de la distribución lognormal\n",
    "\n",
    "$$\n",
    "f(x;\\mu,\\sigma) = \\dfrac{1}{x\\sigma\\sqrt{2\\pi}} exp\\left(-\\dfrac{\\left(\\ln x - \\mu \\right)^2}{2\\sigma^2}\\right)\n",
    "$$\n",
    "\n",
    "Obtenga estimados de máxima verosimilitud para una muestra $x_1,\\ldots,x_{100}$ con $\\mu = 1$, $sigma = 2$ y compare lo obtenido con las soluciones analíticas:\n",
    "\n",
    "$$\n",
    "\\widehat{\\mu} = \\dfrac{\\sum_{i=1}^{100} \\ln x_i}{100}\n",
    "$$\n",
    "$$\n",
    "\\widehat{\\sigma^2} = \\dfrac{\\sum_{i=1}^{100} (\\ln x_i - \\widehat{\\mu})^2}{100}\n",
    "$$\n",
    "\n",
    "Fije la semilla con np.random.seed(54321), reporte sus resultados utilizando 6 decimales. Como solución inicial $\\mu = \\sigma = 0.5$."
   ]
  },
  {
   "cell_type": "code",
   "execution_count": null,
   "metadata": {},
   "outputs": [],
   "source": []
  },
  {
   "cell_type": "markdown",
   "metadata": {},
   "source": [
    "# Valuación de derivados\n",
    "\n",
    "Utilizando los valores\n",
    "\n",
    "* $S_0=100$\n",
    "* $K=110$\n",
    "* $T = 1$\n",
    "* $r = 0.01$\n",
    "* $\\sigma = 0.2$\n",
    "* $t = 0$\n",
    "\n",
    "Calcule el valor de una opción call europea utilizando simulación y compare sus resultados con la fórmula analítica de Black-Scholes.\n",
    "\n",
    "Haga una gráfica en donde el eje $x$ sea el número de simulaciones $N \\in \\{100, 200, \\ldots, 2000 \\}$ y el eje $y$ sea el precio calculado. Esta gráfica debe de mostrar convergencia al precio dado por la fórmula analítica"
   ]
  },
  {
   "cell_type": "code",
   "execution_count": null,
   "metadata": {},
   "outputs": [],
   "source": []
  },
  {
   "cell_type": "markdown",
   "metadata": {},
   "source": [
    "# Volatilidad implícita\n",
    "\n",
    "Utilizando los valores\n",
    "\n",
    "* $S_0=100$\n",
    "* $K=110$\n",
    "* $T = 1$\n",
    "* $r = 0.01$\n",
    "* $t = 0$\n",
    "\n",
    "y el precio de la opción call observado en el mercado $P_{mercado} = 10$, calcule la volatilidad implícita resolviendo el siguiente problema de optimización\n",
    "\n",
    "$$\n",
    "VolImp = argmin_{\\sigma > 0} \\left( P_{mercado} - P_{BS} \\right)^2\n",
    "$$\n",
    "\n",
    "en donde $P_{BS}$ es el precio de la opción call utilizando la fórmula analítica de Black-Scholes.\n",
    "\n",
    "Como solución inicial utilice $\\sigma_0 = 0.05$\n",
    "\n",
    "**Solución**\n",
    "\n",
    "La volatilidad implícita es 0.3379"
   ]
  },
  {
   "cell_type": "code",
   "execution_count": null,
   "metadata": {},
   "outputs": [],
   "source": []
  }
 ],
 "metadata": {
  "kernelspec": {
   "display_name": "Python 3",
   "language": "python",
   "name": "python3"
  },
  "language_info": {
   "codemirror_mode": {
    "name": "ipython",
    "version": 3
   },
   "file_extension": ".py",
   "mimetype": "text/x-python",
   "name": "python",
   "nbconvert_exporter": "python",
   "pygments_lexer": "ipython3",
   "version": "3.7.3"
  }
 },
 "nbformat": 4,
 "nbformat_minor": 2
}
