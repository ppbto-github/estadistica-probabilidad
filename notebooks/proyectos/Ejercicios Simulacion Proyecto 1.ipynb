{
 "cells": [
  {
   "cell_type": "markdown",
   "metadata": {},
   "source": [
    "# Ejercicio 1 (Blackjack modificado)\n",
    "Considere un juego de baraja inglesa y la siguiente modificación del juego de Blackjack.\n",
    "\n",
    "* Se eligen tres cartas al azar $C_1, C_2, C_3$:\n",
    "\n",
    "* Si $C_1 + C_2 + C_3 \\in \\{ 19,20,21 \\}$, entonces se gana el juego, en otro caso se pierde.\n",
    "\n",
    "Calcule la probabilidad de ganar el juego si:\n",
    "\n",
    "1. Las cartas se eligen con reemplazo.\n",
    "\n",
    "2. Las cartas se eligen sin reemplazo.\n",
    "\n",
    "Recuerde, la baraja inglesa está compuesta por 52 cartas y para cada figura (espadas, diamantes, tréboles y corazones) se tiene:\n",
    "\n",
    "* Cartas numeradas del 2 al 10\n",
    "* Joto, reina, rey y as.\n",
    "* Joto, reina y rey valen 10\n",
    "* A diferencia del blackjack original, el as tendrá un valor de 11\n",
    "\n",
    "Utilice 1e5 simulaciones y exprese su resultado redondeando a 3 decimales.\n",
    "Fije la siguiente semilla\n",
    "```python\n",
    "np.random.seed(54321)\n",
    "```"
   ]
  },
  {
   "cell_type": "code",
   "execution_count": null,
   "metadata": {},
   "outputs": [],
   "source": []
  },
  {
   "cell_type": "markdown",
   "metadata": {},
   "source": [
    "# Ejercicio 2 (Problema del cumpleaños modificado)\n",
    "Suponga que se tiene un cuarto con $N$ personas y que el número de días en el año es de $365$.\n",
    "1. Utilizando simulación calcule la probabilidad de que **al menos** tres personas cumplan años el mismo día\n",
    "para $N \\in \\{ 15, 20, 25, 30, 35, 40, 45, 50,...,100 \\}$.\n",
    "\n",
    "2. Grafique sus resultados.\n",
    "\n",
    "Para calcular cada probabilidad utilice 1e4 simulaciones.\n",
    "\n",
    "Fije la siguiente semilla\n",
    "```python\n",
    "np.random.seed(54321)\n",
    "```"
   ]
  },
  {
   "cell_type": "code",
   "execution_count": null,
   "metadata": {},
   "outputs": [],
   "source": []
  },
  {
   "cell_type": "markdown",
   "metadata": {},
   "source": [
    "# Ejercicio 3\n",
    "Considere un juego que consiste de 20 partidas. En cada una de ellas se seleccionan $5$ número al azar (con reemplazo). Estos números provienen del conjunto $A = \\{1, 2, 3, 9, 23, 37 \\}$ (números equiprobables) y se gana cuando la suma de los $5$ números es un múltiplo de $3$ o $5$.\n",
    "\n",
    "Cada vez que se gana una partida, se recibe $\\$1$, mientras que cada vez que se pierde se paga $\\$0.50$.\n",
    "\n",
    "Calcule lo siguiente:\n",
    "* $\\mathbb{P}[Dinero \\geq 0]$.\n",
    "* $\\mathbb{P}[Dinero < 0 ]$.\n",
    "* Dinero promedio que se gana.\n",
    "* Dinero promedio que se pierde.\n",
    "\n",
    "Suponga que inicia con $0$ pesos y no tiene límite de dinero (juega hasta que terminan las 20 partidas).\n",
    "\n",
    "Utilice 1e4 simulaciones.\n",
    "\n",
    "Fije la siguiente semilla\n",
    "```python\n",
    "np.random.seed(54321)\n",
    "```"
   ]
  },
  {
   "cell_type": "code",
   "execution_count": null,
   "metadata": {},
   "outputs": [],
   "source": []
  }
 ],
 "metadata": {
  "kernelspec": {
   "display_name": "Python 3",
   "language": "python",
   "name": "python3"
  },
  "language_info": {
   "codemirror_mode": {
    "name": "ipython",
    "version": 3
   },
   "file_extension": ".py",
   "mimetype": "text/x-python",
   "name": "python",
   "nbconvert_exporter": "python",
   "pygments_lexer": "ipython3",
   "version": "3.7.3"
  }
 },
 "nbformat": 4,
 "nbformat_minor": 2
}
