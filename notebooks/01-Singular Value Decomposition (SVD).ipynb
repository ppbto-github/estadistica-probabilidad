{
 "cells": [
  {
   "cell_type": "markdown",
   "metadata": {},
   "source": [
    "# Descomposición por valores singulares y sistemas de recomendación.\n",
    "\n",
    "Al igual que el análisis de componentes principales (PCA por sus siglas en inglés), la descomposición por valores singulares (SVD en inglés) es uno de los métodos más usuales para reducir la dimensión de nuestro conjunto de datos.\n",
    "\n",
    "A diferencia del PCA, este método no requiere del uso de la matriz de **varianzas y covarianzas**.\n",
    "\n",
    "+ **A favor:** Reduce la dimensión de nuestros datos, remueve el ruido que podrían contener.\n",
    "+ **En contra:** Se pierde interpretación en los datos transformados.\n",
    "+ **Tipo de datos:** Numéricos.\n",
    "\n",
    "En estas notas, se expondrá la relación entre SVD y los sistemas de recomendación.\n",
    "***\n",
    "\n",
    "## Descomposición de la matriz de datos.\n",
    "Sea $\\mathbf{D_{m \\times n}}$ una matriz de $m \\times n$ la cual representa nuestro conjunto de datos. El método de descomposición por valores singulares nos dice que:\n",
    "\n",
    "$$ \\mathbf{D_{m \\times n}} = \\mathbf{U_{m \\times m}} \\mathbf{\\Sigma_{m \\times n}} \\mathbf{V_{n \\times n}^{T}}$$\n",
    "\n",
    "en donde la matriz $\\mathbf{\\Sigma_{m \\times n}}$ es una matriz con elementos igual a $0$, excepto posiblemente, en su diagonal. Estos valores distintos de cero, reciben el nombre de **valores singulares** y son igual a la raiz cuadrada de los eigenvalores de la matriz $\\mathbf{D_{m \\times n}} \\mathbf{D_{m \\times n}^{T}}$. Además, los valores en la diagonal están ordenados de mayor a menor.\n",
    "\n",
    "## SVD en Python con numpy.\n",
    "\n",
    "Es posible obtener factorización anterior utilizando el paquete **numpy**, en particular, la función **svd** del módulo **linalg**."
   ]
  },
  {
   "cell_type": "code",
   "execution_count": 1,
   "metadata": {},
   "outputs": [
    {
     "name": "stdout",
     "output_type": "stream",
     "text": [
      "m es igual a 2\n",
      "n es igual a 3\n",
      "La dimensión de U es (2, 2)\n",
      "La dimensión de sigma es (2,)\n",
      "La dimensión de V^T es (3, 3)\n",
      "[9.508032   0.77286964]\n"
     ]
    }
   ],
   "source": [
    "import numpy as np\n",
    "\n",
    "datos = np.matrix([[1,2,3], [4,5,6]])\n",
    "num_renglones = datos.shape[0] # m\n",
    "num_columnas = datos.shape[1] #n\n",
    "U, sig, VT = np.linalg.svd(datos)\n",
    "\n",
    "print('m es igual a ' + str(num_renglones))\n",
    "print('n es igual a ' + str(num_columnas))\n",
    "print('La dimensión de U es ' + str(U.shape))\n",
    "print('La dimensión de sigma es ' + str(sig.shape))\n",
    "print('La dimensión de V^T es ' + str(VT.shape))\n",
    "print(sig) #No es una matriz!"
   ]
  },
  {
   "cell_type": "markdown",
   "metadata": {},
   "source": [
    "Como podemos observar, la función **svd**, en lugar de regresar la matriz $\\mathbf{\\Sigma_{m \\times n}}$, nos regresa un vector que representa la diagonal de esta matriz. Esto se hace por cuestiones de ahorro en la memoria, recuerde que el resto de los elementos es igual a cero.\n",
    "\n",
    "Lea la documentación de tilizaremos las funciones **zeros** y **fill_diagonal** de **numpy** y programe una función para poder obtener $\\mathbf{\\Sigma_{m \\times n}}$.\n",
    "\n",
    "```python\n",
    "import numpy as np\n",
    "help(np.zeros)\n",
    "help(np.fill_diagonal)\n",
    "```"
   ]
  },
  {
   "cell_type": "code",
   "execution_count": 2,
   "metadata": {},
   "outputs": [],
   "source": [
    "#Escriba aquí su código"
   ]
  },
  {
   "cell_type": "markdown",
   "metadata": {},
   "source": [
    "## Reducción de la dimensión.\n",
    "\n",
    "Algo que se ha observado en la práctica es el hecho de que basta utilizar un número $k$ de los valores en la diagonal de la matriz $\\mathbf{\\Sigma_{m \\times n}}$ para capturar la información más importante del conjunto de datos.\n",
    "\n",
    "Así pues, podemos aproximar nuestro conjunto de datos utilizando sólomente una porción de la matriz $\\mathbf{\\Sigma_{m \\times n}}$.\n",
    "\n",
    "Una forma de elegir el número de valores singulares a utilizar, es estableciendo un umbral (por ejemplo $90\\%$) para la \"energía\" explicada por estos valores. Esto se puede obtener sumando los cuadrados de cada valor en la diagonal (\"energía\" total) y considerando (agregando de mayor a menor valor) los $k$ valores singulares cuya \"energía\" agregada represente al menos cierto porcentaje de la energía total.\n",
    "\n",
    "$$\n",
    "k^{*} = argmin\\left\\{ k: \\dfrac{v_1 + v_2 + \\ldots + v_k}{\\sum_{i} v_i } \\geq umbral \\right\\}\n",
    "$$\n",
    "\n",
    "Programe una función que reciba dos parámetros, un arreglo con los valores singulares y un float que represente un umbral deseado. La función debe de regresar los primeros $k$ valores singulares que resaben el umbral.\n",
    "\n",
    "**Sugerencia**\n",
    "```python\n",
    "help(np.cumsum)\n",
    "```"
   ]
  },
  {
   "cell_type": "code",
   "execution_count": 5,
   "metadata": {},
   "outputs": [],
   "source": [
    "#Escriba aquí su código"
   ]
  },
  {
   "cell_type": "markdown",
   "metadata": {},
   "source": [
    "## Sistemas de recomendación basados en filtrado colaborativo.\n",
    "\n",
    "¿Alguna vez se ha preguntado como Netflix, Amazon, Youtube, etc. Son capaces de realizar recomendaciones que coinciden con nuestros intereses?\n",
    "\n",
    "Un sistema de recomendación busca predecir la valoración o preferencia que un usuario le daría a un artículo determinado (por artículo podemos referirnos a películas, canciones, libros, series accionarias, etc.)\n",
    "\n",
    "Nosotros nos enfocaremos en sistemas de recomendación basados en filtrado colaborativo, estos sistemas funcionan comparando las opiniones o preferencias de los usuarios hacia ciertos artículos.\n",
    "\n",
    "El filtrado colaborativo se basa en la hipótesis de que si dos usuarios tienen preferencias similares respecto a un conjunto de artículos, entonces su preferencia coincidirá para un artículo distinto. Es entonces necesario introducir el concepto de similitud.\n",
    "\n",
    "### Funciones de similitud.\n",
    "Sea $\\mathbf{X}$ un conjunto. Una función $s:\\mathbf{X} \\times \\mathbf{X} \\rightarrow \\mathbb{R}$ se llama una función de similitud si:\n",
    "\n",
    "+ Es no negativa: $s(x,y) \\geq 0$, para todo $x, y \\in \\mathbf{X}$.\n",
    "+ Es simétrica: $ s(x,y) = s(y,x)$.\n",
    "+ Se cumple que $s(x,y) \\leq s(x, x)$ para todo $x, y \\in \\mathbf{X}$. Con igualdad si y sólo si $x = y$.\n",
    "\n",
    "#### Ejemplos de funciones de similitud.\n",
    " Sean $\\mathbf{X} = \\mathbb{R}^n$, algunos ejemplos de funciones de similitud son los siguientes:\n",
    " \n",
    " + $cos(\\mathbf{x}, \\mathbf{y}) = 0.5 + 0.5 \\dfrac{ < \\mathbf{x}, \\mathbf{y} >} {||\\mathbf{x}||_{2}|| \\mathbf{y}||_{2}}$ Similitud coseno (normalizada entre 0 y 1)\n",
    "\n",
    "\n",
    " \n",
    " + $euclid(\\mathbf{x}, \\mathbf{y}) =  \\dfrac{1} { 1 + || \\mathbf{x} - \\mathbf{y} ||_2}$ Similitud euclideana\n",
    " \n",
    "\n",
    "Implemente las funciones de similitud de arriba.\n",
    "\n",
    "**Sugerencia**\n",
    "\n",
    "```python\n",
    "help(np.linalg.norm)\n",
    "help(np.dot)\n",
    "```"
   ]
  },
  {
   "cell_type": "code",
   "execution_count": null,
   "metadata": {},
   "outputs": [],
   "source": [
    "#Escriba aquí su código."
   ]
  },
  {
   "cell_type": "markdown",
   "metadata": {},
   "source": [
    "### Representación de los datos.\n",
    "\n",
    "Usualmente, los datos se representan a través de una matriz en la cual los renglones representan los usuarios y las columnas los artículos (items).\n",
    "Aquí supondremos que nuestra matriz representa la opinión que tienen 100 analistas respecto a las 10 principales series accionarias de Índice de Precios y Cotizaciones [liga](https://espanol.spindices.com/indices/equity/sp-bmv-ipc).\n",
    "\n",
    "Cada analista emite una opinión respecto a cada una de las series accionarias:\n",
    "\n",
    "+ $0 \\implies$ todavía no se ha dado opinión.\n",
    "+ $1 \\implies$ opinión negativa.\n",
    "+ $2 \\implies$ opinión neutral.\n",
    "+ $3 \\implies$ opinión positiva.\n",
    "\n",
    "De esta manera, buscamos obtener una recomendación sobre cuál serie accionaria agregar a nuestro portafolio cuando todavía no tenemos una opinión para esta.\n",
    "\n",
    "Para simular esta matriz utilizamos la función **randint** del módulo **random** de **numpy**."
   ]
  },
  {
   "cell_type": "code",
   "execution_count": 6,
   "metadata": {},
   "outputs": [
    {
     "name": "stdout",
     "output_type": "stream",
     "text": [
      "[[1 2 2 0 0 2 2 2 0 3]\n",
      " [3 2 0 0 1 3 2 3 2 3]\n",
      " [0 2 1 3 1 3 1 2 0 2]\n",
      " [2 2 3 0 2 3 2 3 0 0]\n",
      " [3 0 2 2 1 0 2 1 1 1]\n",
      " [3 3 3 2 1 3 0 2 3 1]\n",
      " [1 3 0 3 2 2 1 2 0 2]\n",
      " [2 1 3 3 0 3 2 1 1 0]\n",
      " [2 0 1 2 1 2 1 1 2 3]\n",
      " [1 0 1 2 1 0 0 0 1 0]]\n"
     ]
    }
   ],
   "source": [
    "#Diccionario auxiliar\n",
    "dicc_series = {0:'FEMSA', 1:'AMX', 2:'GFNORTE', 3:'WALMEX', 4:'GMEXICO', 5:'CEMEX', 6:'BIMBO',\n",
    "           7:'GAP', 8:'ELEKTRA', 9:'TELEVISA'}\n",
    "#Se fija semilla con fines de reproducir el experimento\n",
    "np.random.seed(54321)\n",
    "\n",
    "#100 analistas 10 series accionarias\n",
    "opiniones = np.random.randint(low = 0, high = 4, size = (100, 10))\n",
    "print(opiniones[0:10,]) #primeras diez opiniones"
   ]
  },
  {
   "cell_type": "markdown",
   "metadata": {},
   "source": [
    "Como se mencionó, el filtrado colaborativo se basa en el supuesto de que usuarios con preferencias similares para un conjunto de artículos, tendrán una preferencia similar para un nuevo artículo en consideración.\n",
    "\n",
    "Así, supongamos que el analista $\\mathbf{a_h}$ todavía no tiene una opinión para la serie accionaria $h$, en cambio, este mismo analista sí tiene una opinión para la serie accionaria $j$. Por otra parte, supongamos que existe un conjunto de analistas,  $\\mathbf{b_1}, \\ldots, \\mathbf{b_p}$, que tienen opiniones tanto para la serie $h$ como para las serie $j$.\n",
    "\n",
    "Con la información de estos analistas podemos crear los siguientes vectores:\n",
    "$$\n",
    "\\mathbf{r_{h}} = \n",
    "\\begin{pmatrix}\n",
    "r_{b_{1}h} \\\\\n",
    "\\vdots \\\\\n",
    "r_{b_{p}h} \\\\\n",
    "\\end{pmatrix}\n",
    "$$\n",
    "\n",
    "$$\n",
    "\\mathbf{r_{j}} = \n",
    "\\begin{pmatrix}\n",
    "r_{b_{1}j} \\\\\n",
    "\\vdots \\\\\n",
    "r_{b_{p}j} \\\\\n",
    "\\end{pmatrix}\n",
    "$$\n",
    "\n",
    "en donde $r_{b_{i}h}$ representa la opinión que el analista $\\mathbf{b_i}$ tiene sobre la serie $h$, $r_{b_{i}j}$ se define de manera similar.\n",
    "\n",
    "Si $\\mathbf{r_{h}}$ y $\\mathbf{r_{j}}$ son similares (en nuestro caso esto quiere decir que la función de similitud es cercana a $1$), entonces los analistas $\\mathbf{b_1}, \\ldots, \\mathbf{b_p}$ tienen la misma opinión entre las series $h$ y $j$, por lo tanto, para el analista $\\mathbf{a_h}$, se debe asignar a la serie $h$ la misma opinión que asignó a la serie $j$ (se sigue a las multitudes).\n",
    "\n",
    "Ya que la serie $h$ se compara con varias series $j$, lo que realmente obtenemos es una opinión promedio y no un número en el conjunto $\\{0, 1, 2, 3\\}$.\n",
    "\n",
    "$$Opinion(\\mathbf{a_h},h) = \\dfrac{\\sum_{j} similitud(\\mathbf{r_{j}},\\mathbf{r_{h}}) * opinion_{\\mathbf{a_h}}(j)}{\\sum_{j} similitud(\\mathbf{r_{j}},\\mathbf{r_{h}})}$$\n",
    "\n",
    "en donde\n",
    "\n",
    "+ $Opinion(\\mathbf{a_h},h)$ es la opinión del analista $\\mathbf{a_h}$ para la serie $h$.\n",
    "+ $similitud(\\mathbf{r_{j}},\\mathbf{r_{h}})$ es la similitud entre la serie $h$ y $j$, de acuerdo a los analistas que tienen opinión para ambas series.\n",
    "+ $opinion_{\\mathbf{a_h}}(j)$ es la opinión del analista $\\mathbf{a_h}$ para la serie $j$.\n",
    "+ $\\mathbf{A}$ es el conjunto de analistas $\\mathbf{b_1}, \\ldots, \\mathbf{b_p}$, es decir, aquellos analistas que tienen una opinión sobre las series $h$  y $j$.\n",
    "\n",
    "Implemente una función que calcula la opinión (ponderada) que tendría un analista en particular para una serie $h$."
   ]
  },
  {
   "cell_type": "code",
   "execution_count": 1,
   "metadata": {},
   "outputs": [],
   "source": [
    "#Escriba aquí su código"
   ]
  },
  {
   "cell_type": "code",
   "execution_count": 9,
   "metadata": {},
   "outputs": [
    {
     "name": "stdout",
     "output_type": "stream",
     "text": [
      "Similitud coseno:\n",
      "Para el analista 0 en la serie WALMEX se tiene 1.9997882689302027\n",
      "Similitud euclideana:\n",
      "Para el analista 0 en la serie WALMEX se tiene 1.9986945025331566\n"
     ]
    }
   ],
   "source": [
    "print('Similitud coseno:')\n",
    "print('Para el analista 0 en la serie', dicc_series[3], 'se tiene',calcula_opinion(opiniones, 0, cos_sim, 3))\n",
    "print('Similitud euclideana:')\n",
    "print('Para el analista 0 en la serie', dicc_series[3], 'se tiene',calcula_opinion(opiniones, 0, euclid_sim, 3))"
   ]
  },
  {
   "cell_type": "markdown",
   "metadata": {},
   "source": [
    "## Utilizando SVD para reducir la dimensión\n",
    "\n",
    "Imaginemos el caso de una compañía como Netflix, cláramente, el número de usuarios rebasa al número de productos en su catálogo. En este tipo de situaciones, es conveniente reducir la dimensión de nuestros datos. Utilizando la descomposición SVD esto se realiza de la siguiente manera:\n",
    "\n",
    "+ Elegir un número $k$ de valores singulares (por ejemplo los $k$ más grades) y obtener la matriz diagonal $\\mathbf{\\Sigma_{k \\times k}}.$\n",
    "\n",
    "+ Definir la matriz $\\mathbf{U_{m \\times k}}$ con sólamente las primeras $k$ columnas de la matriz $\\mathbf{U_{m \\times m}}.$\n",
    "\n",
    "+ La matriz con la que ahora se trabajará es aquella que resulte del producto $\\left(\\mathbf{D_{m \\times n}^{T}}\\mathbf{U_{m \\times k}} \\mathbf{\\Sigma_{k \\times k}^{-1}}\\right)^{T}$ (matriz de dimensión $k \\times n$, $k < m$), esta matriz es igual a la submatriz formada por los primeros $k$ renglones de la matriz $\\mathbf{V^T}$.\n",
    "\n",
    "\n",
    "Implemente una función que calcule la opinión de un analista utilizando la matriz $\\mathbf{V^T}$."
   ]
  },
  {
   "cell_type": "code",
   "execution_count": 10,
   "metadata": {},
   "outputs": [],
   "source": [
    "#Escriba aquí su código"
   ]
  },
  {
   "cell_type": "code",
   "execution_count": 11,
   "metadata": {},
   "outputs": [
    {
     "name": "stdout",
     "output_type": "stream",
     "text": [
      "Similitud coseno:\n",
      "Para el analista 0 en la serie WALMEX se tiene 2.034182278191964\n",
      "Similitud euclideana:\n",
      "Para el analista 0 en la serie WALMEX se tiene 2.0137471636933384\n"
     ]
    }
   ],
   "source": [
    "U, sig, Vt = np.linalg.svd(opiniones)\n",
    "umbral = 0.9\n",
    "print('Similitud coseno:')\n",
    "print('Para el analista 0 en la serie',\n",
    "      dicc_series[3], 'se tiene',calcula_opinion_svd(opiniones, 0, cos_sim, 3, Vt, sig, umbral ))\n",
    "print('Similitud euclideana:')\n",
    "print('Para el analista 0 en la serie', dicc_series[3],\n",
    "      'se tiene', calcula_opinion_svd(opiniones, 0, euclid_sim, 3, Vt, sig, umbral))"
   ]
  }
 ],
 "metadata": {
  "kernelspec": {
   "display_name": "Python 3",
   "language": "python",
   "name": "python3"
  },
  "language_info": {
   "codemirror_mode": {
    "name": "ipython",
    "version": 3
   },
   "file_extension": ".py",
   "mimetype": "text/x-python",
   "name": "python",
   "nbconvert_exporter": "python",
   "pygments_lexer": "ipython3",
   "version": "3.7.3"
  }
 },
 "nbformat": 4,
 "nbformat_minor": 2
}
