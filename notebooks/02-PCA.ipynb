{
 "cells": [
  {
   "cell_type": "markdown",
   "metadata": {},
   "source": [
    "# Análisis de componentes principales\n",
    "\n",
    "En este notebook utilizaremos el análisis de componentes principales con el fin de resumir el comportamiento de 5 índices accionarios en un sólo índice. Este nuevo índice corresponderá al primer componente principal de nuestra matriz de datos.\n",
    "\n",
    "Utilizando el archivo ```datos/rendimientos.csv``` obtenga los componentes principales,\n",
    "\n",
    "```python\n",
    "help(np.genfromtxt)\n",
    "help(np.corrcoef)\n",
    "help(np.linalg.eig)\n",
    "help(eig_vals.argsort)\n",
    "help(np.matmul)\n",
    "```\n",
    "\n",
    "Obtenga además la contribución de cada componente a la variabilidad total de los datos."
   ]
  },
  {
   "cell_type": "code",
   "execution_count": 9,
   "metadata": {},
   "outputs": [],
   "source": [
    "#Escriba aquí su código"
   ]
  }
 ],
 "metadata": {
  "kernelspec": {
   "display_name": "Python 3",
   "language": "python",
   "name": "python3"
  },
  "language_info": {
   "codemirror_mode": {
    "name": "ipython",
    "version": 3
   },
   "file_extension": ".py",
   "mimetype": "text/x-python",
   "name": "python",
   "nbconvert_exporter": "python",
   "pygments_lexer": "ipython3",
   "version": "3.7.3"
  }
 },
 "nbformat": 4,
 "nbformat_minor": 2
}
