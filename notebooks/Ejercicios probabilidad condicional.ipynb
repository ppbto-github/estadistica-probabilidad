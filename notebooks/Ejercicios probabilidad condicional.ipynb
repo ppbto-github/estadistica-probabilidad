{
 "cells": [
  {
   "cell_type": "markdown",
   "metadata": {},
   "source": [
    "# Probabilidad con simulación\n",
    "\n",
    "## Ejercicio 1\n",
    "Supongamos que tenemos dos monedas idénticas y perfectamente balanceadas.\n",
    "Si se lanza cada moneda una vez, encuentre:\n",
    "\n",
    "a) La probabilidad de que ambas monedas muestren **cara**, dado que la primera muestra **cara**.\n",
    "\n",
    "b) La probabilidad de que ambas monedas muestren **cara**, dado que al menos una de ellas muestra **cara**"
   ]
  },
  {
   "cell_type": "code",
   "execution_count": null,
   "metadata": {},
   "outputs": [],
   "source": [
    "import numpy as np\n",
    "#inciso a\n",
    "\n",
    "#Se generan varias repeticiones del experimento\n",
    "n = int(1e6)\n",
    "resultados = np.random.choice(['cara','cruz'], size = (n,2))\n",
    "\n",
    "#Se obtienen los experimentos en los cuales la primera moneda es cara\n",
    "condicional = resultados[resultados[:,0] == 'cara']\n",
    "\n",
    "#Se obtienen los experimentos en donde las dos monedas son cara\n",
    "ambas_cara = resultados[np.logical_and(resultados[:,0] == 'cara',\n",
    "                                      resultados[:,1] == 'cara')]\n",
    "\n",
    "#Calcula la probabilidad condicional\n",
    "proba = ambas_cara.shape[0] / condicional.shape[0]\n",
    "print('La probabilidad condicional es', round(proba,2))"
   ]
  },
  {
   "cell_type": "code",
   "execution_count": null,
   "metadata": {},
   "outputs": [],
   "source": [
    "# inciso b\n",
    "#Se obtienen los experimentos en los cuales al menos una moneda es cara\n",
    "aux = np.logical_or(resultados[:,0] == 'cara',\n",
    "                                      resultados[:,1] == 'cara')\n",
    "condicional = resultados[aux]\n",
    "\n",
    "#Calcula la probabilidad condicional\n",
    "proba = ambas_cara.shape[0] / condicional.shape[0]\n",
    "print('La probabilidad condicional es', round(proba,2))\n"
   ]
  },
  {
   "cell_type": "markdown",
   "metadata": {},
   "source": [
    "## Ejercicio 2\n",
    "Si un punto en $\\mathbb{R}^2$, dentro del cuadrado unitario $C = \\{(x,y): (x,y) \\in [0,1] \\times[0,1]  \\}$ se selecciona al azar y se sabe que está dentro de la región triangular acotada por $x = 0, y = 0, x + y = 1$, encuentre la probabilidad de que este punto también se encuentre dentro del triángulo acotado por $y = 0, x = 1, x = y$."
   ]
  },
  {
   "cell_type": "code",
   "execution_count": null,
   "metadata": {},
   "outputs": [],
   "source": [
    "#simula los puntos dentro del cuadrado unitario\n",
    "n = int(1e6)\n",
    "puntos = np.random.uniform(0, 1, size = (n, 2))\n",
    "\n",
    "#Localiza los puntos dentro del triángulo 1 (y <= 1 - x)\n",
    "triangulo1 = puntos[puntos[:,1] <= 1 - puntos[:,0]]\n",
    "\n",
    "#Localiza los puntos dentro del triángulo 2 (y <= 1 - x and y <= x)\n",
    "aux = np.logical_and(puntos[:,1] <= 1 - puntos[:,0], \n",
    "                    puntos[:,1] <= puntos[:,0])\n",
    "triangulo2 = puntos[aux]\n",
    "\n",
    "#Calcula la probabilidad\n",
    "proba = triangulo2.shape[0] / triangulo1.shape[0]\n",
    "print('La probabilidad es', round(proba,2))"
   ]
  },
  {
   "cell_type": "markdown",
   "metadata": {},
   "source": [
    "## Ejercicio 3\n",
    "Supongamos que tenemos una moneda $A$ que cae en cara con probabilidad $s$ y una moneda $B$ que cae en cara con probabilidad $t$. Si cada moneda se tira de manera alternada, empezando con la moneda $A$, ¿cuál es la probilidad de que la primera cara se obtenga con la moneda $A$?\n",
    "\n",
    "Considere $s = 0.4$ y $t = .5$\n",
    "\n",
    "¿Qué puede concluir?"
   ]
  },
  {
   "cell_type": "code",
   "execution_count": null,
   "metadata": {},
   "outputs": [],
   "source": [
    "import numpy as np\n",
    "\n",
    "#número de simulaciones\n",
    "n_sim = int(1e5)\n",
    "\n",
    "#número de tiros por simulación\n",
    "n_tiros = 100\n",
    "\n",
    "#contador de casos de éxito (la moneda A es cara)\n",
    "cont_exitos = 0\n",
    "\n",
    "#probabilidades de cara para cada moneda\n",
    "s = 0.4\n",
    "t = 0.5\n",
    "\n",
    "for i in range(n_sim):\n",
    "    #Se empieza tirando la moneda A\n",
    "    moneda = 'A'\n",
    "    \n",
    "    #Boolean para saber si no ha salido ningua cara\n",
    "    bool_primera_cara = False\n",
    "    \n",
    "    for j in range(n_tiros):\n",
    "        \n",
    "        #se realiza lanzamiento\n",
    "        if moneda == 'A':\n",
    "            resultado = np.random.choice(['cara','cruz'], size = 1, p = [s, 1 - s])\n",
    "        else:\n",
    "            resultado = np.random.choice(['cara','cruz'], size = 1, p = [t, 1 - t])\n",
    "        \n",
    "        #se revisa la cara obtenida\n",
    "        if moneda == 'A' and resultado[0] == 'cara':\n",
    "            cont_exitos = cont_exitos + 1\n",
    "            break #siguiente simulación\n",
    "        elif moneda == 'B' and resultado[0] == 'cara':\n",
    "            break #siguiente simulación\n",
    "            \n",
    "        if moneda == 'A':\n",
    "            moneda = 'B'\n",
    "        else:\n",
    "            moneda = 'A'\n",
    "\n",
    "#Estima probabilidad\n",
    "proba = cont_exitos / n_sim\n",
    "\n",
    "print('La probabilidad es', round(proba, 2))\n",
    "\n"
   ]
  },
  {
   "cell_type": "markdown",
   "metadata": {},
   "source": [
    "## Ejercicio 4\n",
    "Se tienen dos urnas. La primera de ellas tiene $a$ esferas rojas y $b$ esferas negras, la otra urna contiene $c$ esferas rojas y $d$ negras.\n",
    "Si se elige una esfera de cada urna y de estas dos esferas se elige alguna al azar, ¿cuál es la probabilidad de que la esfera sea roja?\n",
    "Calcule la probabilidad considerando\n",
    "$$\n",
    "a = 99, b = 1, c = 1, d = 1\n",
    "$$"
   ]
  },
  {
   "cell_type": "code",
   "execution_count": null,
   "metadata": {},
   "outputs": [],
   "source": [
    "import numpy as np\n",
    "\n",
    "#Se generan varias repeticiones del experimento\n",
    "n = int(1e4)\n",
    "\n",
    "#Contador de éxitos\n",
    "cont_exito = 0\n",
    "\n",
    "#urna 1\n",
    "rojas_1 = 99\n",
    "negras_1 = 1\n",
    "total_1 = rojas_1 + negras_1\n",
    "prob_rojas_1 = rojas_1 / total_1\n",
    "prob_negras_1 = negras_1 / total_1\n",
    "vector_prob_1 = [prob_rojas_1, prob_negras_1]\n",
    "\n",
    "#urna 2\n",
    "rojas_2 = 1\n",
    "negras_2 = 1\n",
    "total_2 = rojas_2 + negras_2\n",
    "prob_rojas_2 = rojas_2 / total_2\n",
    "prob_negras_2 = negras_2 / total_2\n",
    "vector_prob_2 = [prob_rojas_2, prob_negras_2]\n",
    "\n",
    "#Se simula el experimento\n",
    "for i in range(n):\n",
    "    #Se selecciona una esfera de cada urna\n",
    "    esfera_1 = np.random.choice(['roja','negra'], size = 1, p = vector_prob_1)\n",
    "    esfera_2 = np.random.choice(['roja','negra'], size = 1, p = vector_prob_2)\n",
    "    \n",
    "    #Se selecciona alguna de las dos esferas al azar\n",
    "    esfera = np.random.choice([esfera_1[0], esfera_2[0]], size = 1)\n",
    "    \n",
    "    #Se determina si fue esfera roja (éxito)\n",
    "    if esfera[0] == 'roja':\n",
    "        cont_exito = cont_exito + 1\n",
    "        \n",
    "#Se calcula la probabilidad de obtener una esfera roja\n",
    "prob_roja = cont_exito / n\n",
    "\n",
    "print(\"La probabilidad de obtener una esfera roja es\", round(prob_roja,3))\n",
    "        \n"
   ]
  },
  {
   "cell_type": "markdown",
   "metadata": {},
   "source": [
    "## Ejercicio 5 (Problema del cumpleaños)\n",
    "Suponga que se tiene un cuarto con $N \\in \\{5, 10, 15, 20, \\ldots, 100 \\}$ personas. Suponiendo que un año tiene 365 días, para cada $N$, calcule la probabilidad de que existan personas que cumplan años el mismo día. Grafique sus resultados"
   ]
  },
  {
   "cell_type": "code",
   "execution_count": null,
   "metadata": {},
   "outputs": [],
   "source": [
    "import numpy as np\n",
    "import matplotlib.pyplot as plt\n",
    "\n",
    "#Número de simulaciones\n",
    "n_sim = int(1e4)\n",
    "\n",
    "#Posibles valores de N\n",
    "N = list(range(5, 105, 5))\n",
    "\n",
    "#Años de 365 días\n",
    "dias = list(range(365))\n",
    "\n",
    "#Para almacenar las probabilidades de cada valor de N\n",
    "prob = []\n",
    "\n",
    "for n in N:\n",
    "    \n",
    "    #Contador de éxitos\n",
    "    cont_ex = 0\n",
    "    \n",
    "    for i in range(n_sim):\n",
    "        \n",
    "        #Obtiene los cumpleaños de cada persona\n",
    "        cumpleanios = np.random.choice(dias, size = n, replace = True)\n",
    "        \n",
    "        #el array unicos es para revisar si hay algún día repetido\n",
    "        unicos = np.unique(cumpleanios)\n",
    "        \n",
    "        #Revisa si algún día se repite\n",
    "        if len(cumpleanios) != len(unicos):\n",
    "            cont_ex = cont_ex + 1\n",
    "            \n",
    "    #Calcula la probabilidad para el valor de n correspondiente\n",
    "    prob.append(float(cont_ex) / n_sim)\n",
    "\n",
    "#Grafica resultados\n",
    "plt.plot(N, prob, '-')\n",
    "plt.xlabel('Personas en el cuarto')\n",
    "plt.ylabel('Probabilidad')\n",
    "plt.show()"
   ]
  },
  {
   "cell_type": "markdown",
   "metadata": {},
   "source": [
    "## Ejercicio 6 Cálculo de $\\pi$\n",
    "Utilizando un cuadrado con vértices en los puntos $(1,1), (-1,1), (1,-1), (-1,-1)$ y un círculo con centro en $(0,0)$ y radio igual a $1$, estime el valor de $\\pi$.\n",
    "\n",
    "Primero estime la probabilidad de que, al elegir un punto al azar dentro del cuadrado, este punto se encuentre dentro del círculo.\n",
    "\n",
    "Haga una gráfica\n",
    "\n",
    "**NOTA:** No puede utilizar cíclos *for*. Utilie 1e4 simulaciones\n"
   ]
  },
  {
   "cell_type": "code",
   "execution_count": null,
   "metadata": {},
   "outputs": [],
   "source": [
    "import numpy as np\n",
    "import matplotlib.pyplot as plt\n",
    "\n",
    "#número de simulaciones\n",
    "n_sim = int(1e4)\n",
    "\n",
    "#Puntos dentro del cuadrado\n",
    "puntos = np.random.uniform(low = -1, high = 1, size = (n_sim, 2))\n",
    "\n",
    "#puntos dentro de la circunferencia\n",
    "puntos_circulo = puntos[puntos[:,0]**2 + puntos[:,1]**2 <= 1]\n",
    "\n",
    "#Probabilidad de que el punto pertenece está dentro del círculo\n",
    "prob = float(puntos_circulo.shape[0]) / n_sim\n",
    "\n",
    "#Estimado de pi\n",
    "pi_estimado = 4 * prob\n",
    "print(\"El valor estimado de pi es\", round(pi_estimado, 4))\n",
    "\n"
   ]
  },
  {
   "cell_type": "code",
   "execution_count": null,
   "metadata": {},
   "outputs": [],
   "source": [
    "#Gráfica\n",
    "plt.plot(puntos[:,0], puntos[:,1], '*b')\n",
    "plt.plot(puntos_circulo[:,0], puntos_circulo[:,1], '*r')\n",
    "plt.show()"
   ]
  },
  {
   "cell_type": "code",
   "execution_count": null,
   "metadata": {},
   "outputs": [],
   "source": []
  }
 ],
 "metadata": {
  "kernelspec": {
   "display_name": "Python 3",
   "language": "python",
   "name": "python3"
  },
  "language_info": {
   "codemirror_mode": {
    "name": "ipython",
    "version": 3
   },
   "file_extension": ".py",
   "mimetype": "text/x-python",
   "name": "python",
   "nbconvert_exporter": "python",
   "pygments_lexer": "ipython3",
   "version": "3.7.3"
  }
 },
 "nbformat": 4,
 "nbformat_minor": 2
}
